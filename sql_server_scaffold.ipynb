{
    "cells": [
        {
            "cell_type": "markdown",
            "metadata": {
                "azdata_cell_guid": "3151e6f4-670d-41c7-be56-70ad398d6c9e"
            },
            "source": [
                "# Transact-SQL (T-SQL) Development from start to finish\n",
                "\n",
                "> Ahmed O. Roberts | August 2024"
            ]
        },
        {
            "cell_type": "code",
            "execution_count": null,
            "metadata": {
                "azdata_cell_guid": "746a9c76-013f-4879-afa0-562a72d873b0",
                "language": "sql"
            },
            "outputs": [],
            "source": [
                "-- Create Imaginary Database\n",
                "/*\n",
                "CREATE DATABASE MyAmazingDatabase\n",
                "ON \n",
                "( NAME = MyAmazingDatabase_Data, \n",
                "  FILENAME = 'C:\\SQLData\\MyAmazingDatabaseData.mdf', \n",
                "  SIZE = 10MB, \n",
                "  MAXSIZE = 100MB, \n",
                "  FILEGROWTH = 5MB )\n",
                "LOG ON \n",
                "( NAME = MyAmazingDatabase_Log, \n",
                "  FILENAME = 'C:\\SQLData\\MyAmazingDatabaseLog.ldf', \n",
                "  SIZE = 5MB, \n",
                "  MAXSIZE = 50MB, \n",
                "  FILEGROWTH = 5MB );\n",
                "*/"
            ]
        },
        {
            "cell_type": "markdown",
            "metadata": {
                "azdata_cell_guid": "3a1cc6ce-7fc9-4b2d-8f09-d31d3d4098d0"
            },
            "source": [
                "## Create Schemas"
            ]
        },
        {
            "cell_type": "code",
            "execution_count": null,
            "metadata": {
                "azdata_cell_guid": "8204339c-ca4b-4dd4-b4b2-6acac3cdac6d",
                "language": "sql"
            },
            "outputs": [],
            "source": [
                "CREATE SCHEMA Customers\n",
                "GO\n",
                "\n",
                "CREATE SCHEMA Orders\n",
                "GO\n",
                "\n",
                "CREATE SCHEMA Products\n",
                "GO\n",
                "\n",
                "CREATE SCHEMA LookupTables\n",
                "GO\n",
                "\n",
                "CREATE SCHEMA HumanResources\n",
                "GO"
            ]
        },
        {
            "cell_type": "markdown",
            "metadata": {
                "azdata_cell_guid": "68b6ec77-b6f4-46cb-ba80-49ae5d69bf47"
            },
            "source": [
                "## Create Tables"
            ]
        },
        {
            "cell_type": "markdown",
            "metadata": {},
            "source": [
                "Customers"
            ]
        },
        {
            "cell_type": "code",
            "execution_count": null,
            "metadata": {},
            "outputs": [],
            "source": [
                "Create Table Customers.Customer\n",
                "( \n",
                "  CustomerID    INT           Identity(1,1),\n",
                "  CompanyName   Varchar(50)   Null,\n",
                "  FirstName     Varchar(50)   Null,\n",
                "  LastName      Varchar(50)   Null,\n",
                "  ModifiedDate  DATE          Not Null\n",
                ")\n",
                "GO"
            ]
        },
        {
            "cell_type": "code",
            "execution_count": null,
            "metadata": {},
            "outputs": [],
            "source": [
                "Create Table Customers.CustomerAddress\n",
                "(\n",
                "  AddressID      INT           Identity(1, 1),\n",
                "  AddressType    Varchar(20)   Not Null,\n",
                "  AddressLine1   Varchar(50)   Not Null,\n",
                "  AddressLine2   Varchar(50)   Null,\n",
                "  AddressLine3   Varchar(50)   Null,\n",
                "  City           Varchar(50)   Not Null,\n",
                "  StateProvince  Varchar(50)   Null,\n",
                "  Country        Varchar(70)   Null\n",
                ")\n",
                "GO"
            ]
        },
        {
            "cell_type": "markdown",
            "metadata": {},
            "source": [
                "Orders"
            ]
        },
        {
            "cell_type": "code",
            "execution_count": null,
            "metadata": {},
            "outputs": [],
            "source": [
                "Create Table Orders.OrderHeader\n",
                "(\n",
                "  OrderID         INT         Identity(1,1),\n",
                "  OrderDate       DATE        Not Null,\n",
                "  Subtotal        Money       Not Null,\n",
                "  TaxAmount       Money       Not Null,\n",
                "  ShippingAmount  Money       Not Null,\n",
                "  FinalShipDate   DATE        Null\n",
                ")\n",
                "GO"
            ]
        },
        {
            "cell_type": "code",
            "execution_count": null,
            "metadata": {},
            "outputs": [],
            "source": [
                "Create Table Ordrs.OrderDetail\n",
                "(\n",
                "  OrderDetailID     INT       Identity(1,1),\n",
                "  SKU               Char(10)  Not Null,\n",
                "  Quantity          INT       Not Null,\n",
                "  UnitPrice         Money     Not Null,\n",
                "  ShipDate          DATE      Null\n",
                ")\n",
                "GO"
            ]
        },
        {
            "cell_type": "markdown",
            "metadata": {},
            "source": [
                "Products"
            ]
        },
        {
            "cell_type": "code",
            "execution_count": null,
            "metadata": {},
            "outputs": [],
            "source": [
                "Create Table Products.Product\n",
                "(\n",
                "  ProductID             INT           Identity(1,1),\n",
                "  ProductName           Varchar(50)   Not Null,\n",
                "  ProductCost           Money         Not Null,\n",
                "  ListPrice             Money         Not Null,\n",
                "  ProductDescription    XML           Null\n",
                ")\n",
                "GO"
            ]
        },
        {
            "cell_type": "markdown",
            "metadata": {},
            "source": [
                "Human Resources"
            ]
        },
        {
            "cell_type": "code",
            "execution_count": null,
            "metadata": {},
            "outputs": [],
            "source": [
                "Create Table HumanResources.Employee\n",
                "(\n",
                "  EmployeeID       INT           IDENTITY(1,1),\n",
                "  FirstName        Varchar(50)   Not Null,\n",
                "  LastName         Varchar(50)    Not Null,\n",
                "  JobTitle         Varchar(50)    Not Null,\n",
                "  BirthDate        DATE           Not Null,\n",
                "  HireDate         Date           Not Null\n",
                ")\n",
                "GO"
            ]
        },
        {
            "cell_type": "code",
            "execution_count": null,
            "metadata": {},
            "outputs": [],
            "source": [
                "Create Table HumanResources.EmployeeAddress\n",
                "(\n",
                "  AddressID      INT           Identity(1, 1),\n",
                "  AddressType    Varchar(20)   Not Null,\n",
                "  AddressLine1   Varchar(50)   Not Null,\n",
                "  AddressLine2   Varchar(50)   Null,\n",
                "  AddressLine3   Varchar(50)   Null,\n",
                "  City           Varchar(50)   Not Null,\n",
                "  StateProvince  Varchar(50)   Null,\n",
                "  Country        Varchar(70)   Null\n",
                ")\n",
                "GO"
            ]
        },
        {
            "cell_type": "markdown",
            "metadata": {},
            "source": [
                "[Link to How to add Advetureworks](https://learn.microsoft.com/en-us/sql/samples/adventureworks-install-configure?view=sql-server-ver16&tabs=tsql)"
            ]
        },
        {
            "cell_type": "code",
            "execution_count": null,
            "metadata": {},
            "outputs": [],
            "source": [
                "-- C:\\Users\\aroberts\\Downloads\n",
                "-- AdventureWorksLT2022.bak\n",
                "-- (https://learn.microsoft.com/en-us/sql/samples/adventureworks-install-configure?view=sql-server-ver16&tabs=tsql)\n",
                "/*\n",
                "USE [master];\n",
                "GO\n",
                "RESTORE DATABASE [AdventureWorks2022]\n",
                "FROM DISK = '/var/opt/mssql/backup/AdventureWorks2022.bak'\n",
                "WITH\n",
                "    MOVE 'AdventureWorks2022' TO '/var/opt/mssql/data/AdventureWorks2022_Data.mdf',\n",
                "    MOVE 'AdventureWorks2022_log' TO '/var/opt/mssql/data/AdventureWorks2022_log.ldf',\n",
                "    FILE = 1,\n",
                "    NOUNLOAD,\n",
                "    STATS = 5;\n",
                "GO\n",
                "*/"
            ]
        }
    ],
    "metadata": {
        "kernelspec": {
            "display_name": "SQL",
            "language": "sql",
            "name": "SQL"
        },
        "language_info": {
            "name": "sql",
            "version": ""
        }
    },
    "nbformat": 4,
    "nbformat_minor": 2
}
