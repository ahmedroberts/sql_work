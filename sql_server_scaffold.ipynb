{
    "metadata": {
        "kernelspec": {
            "name": "SQL",
            "display_name": "SQL",
            "language": "sql"
        },
        "language_info": {
            "name": "sql",
            "version": ""
        }
    },
    "nbformat_minor": 2,
    "nbformat": 4,
    "cells": [
        {
            "cell_type": "markdown",
            "source": [
                "# Transact-SQL (T-SQL) Development from start to finish\n",
                "\n",
                "> Ahmed O. Roberts | August 2024"
            ],
            "metadata": {
                "azdata_cell_guid": "3151e6f4-670d-41c7-be56-70ad398d6c9e"
            }
        },
        {
            "cell_type": "code",
            "source": [
                "-- Create Imaginary Database\n",
                "/*\n",
                "CREATE DATABASE MyAmazingDatabase\n",
                "ON \n",
                "( NAME = MyAmazingDatabase_Data, \n",
                "  FILENAME = 'C:\\SQLData\\MyAmazingDatabaseData.mdf', \n",
                "  SIZE = 10MB, \n",
                "  MAXSIZE = 100MB, \n",
                "  FILEGROWTH = 5MB )\n",
                "LOG ON \n",
                "( NAME = MyAmazingDatabase_Log, \n",
                "  FILENAME = 'C:\\SQLData\\MyAmazingDatabaseLog.ldf', \n",
                "  SIZE = 5MB, \n",
                "  MAXSIZE = 50MB, \n",
                "  FILEGROWTH = 5MB );\n",
                "*/"
            ],
            "metadata": {
                "vscode": {
                    "languageId": "sql"
                },
                "azdata_cell_guid": "746a9c76-013f-4879-afa0-562a72d873b0",
                "language": "sql"
            },
            "outputs": [],
            "execution_count": null
        },
        {
            "cell_type": "markdown",
            "source": [
                "## Create Schemas"
            ],
            "metadata": {
                "azdata_cell_guid": "3a1cc6ce-7fc9-4b2d-8f09-d31d3d4098d0"
            }
        },
        {
            "cell_type": "code",
            "source": [
                "CREATE SCHEMA Customers\n",
                "GO\n",
                "\n",
                "CREATE SCHEMA Orders\n",
                "GO\n",
                "\n",
                "CREATE SCHEMA Products\n",
                "GO\n",
                "\n",
                "CREATE SCHEMA LookupTables\n",
                "GO\n",
                "\n",
                "CREATE SCHEMA HumanResources\n",
                "GO"
            ],
            "metadata": {
                "vscode": {
                    "languageId": "sql"
                },
                "azdata_cell_guid": "8204339c-ca4b-4dd4-b4b2-6acac3cdac6d",
                "language": "sql"
            },
            "outputs": [],
            "execution_count": null
        },
        {
            "cell_type": "markdown",
            "source": [
                "## Create Tables"
            ],
            "metadata": {
                "azdata_cell_guid": "68b6ec77-b6f4-46cb-ba80-49ae5d69bf47"
            }
        }
    ]
}