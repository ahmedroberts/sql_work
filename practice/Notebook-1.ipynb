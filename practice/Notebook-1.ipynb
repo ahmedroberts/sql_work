{
    "metadata": {
        "kernelspec": {
            "name": "SQL",
            "display_name": "SQL",
            "language": "sql"
        },
        "language_info": {
            "name": "sql",
            "version": ""
        }
    },
    "nbformat_minor": 2,
    "nbformat": 4,
    "cells": [
        {
            "cell_type": "markdown",
            "source": [
                "# Build Transact-SQL (T-SQL) on srvr-mmetas"
            ],
            "metadata": {
                "azdata_cell_guid": "f3c2d369-1aad-4a32-a6b8-c496d1d2ce87"
            },
            "attachments": {}
        },
        {
            "cell_type": "code",
            "source": [
                "-- return all databases\r\n",
                "EXEC sp_databases;"
            ],
            "metadata": {
                "azdata_cell_guid": "26fbaae8-000f-4914-a616-41f06647de40",
                "language": "sql"
            },
            "outputs": [
                {
                    "output_type": "display_data",
                    "data": {
                        "text/html": "Commands completed successfully."
                    },
                    "metadata": {}
                },
                {
                    "output_type": "display_data",
                    "data": {
                        "text/html": "Total execution time: 00:00:00.067"
                    },
                    "metadata": {}
                },
                {
                    "output_type": "execute_result",
                    "metadata": {},
                    "execution_count": 2,
                    "data": {
                        "application/vnd.dataresource+json": {
                            "schema": {
                                "fields": [
                                    {
                                        "name": "DATABASE_NAME"
                                    },
                                    {
                                        "name": "DATABASE_SIZE"
                                    },
                                    {
                                        "name": "REMARKS"
                                    }
                                ]
                            },
                            "data": []
                        },
                        "text/html": [
                            "<table>",
                            "<tr><th>DATABASE_NAME</th><th>DATABASE_SIZE</th><th>REMARKS</th></tr>",
                            "</table>"
                        ]
                    }
                }
            ],
            "execution_count": 2
        }
    ]
}