{
    "metadata": {
        "kernelspec": {
            "name": "SQL",
            "display_name": "SQL",
            "language": "sql"
        },
        "language_info": {
            "name": "sql",
            "version": ""
        }
    },
    "nbformat_minor": 2,
    "nbformat": 4,
    "cells": [
        {
            "cell_type": "markdown",
            "source": [
                "# Common Table Expresions\r\n",
                "\r\n",
                "> Ahmed O. Roberts - 2024.08.22"
            ],
            "metadata": {
                "azdata_cell_guid": "05dd7756-7464-4001-8c08-451463cd65f6"
            },
            "attachments": {}
        },
        {
            "cell_type": "code",
            "source": [
                "Select Top(9) [SalesOrderID]\r\n",
                "      ,[RevisionNumber]\r\n",
                "      ,[OrderDate]\r\n",
                "      ,[DueDate]\r\n",
                "      ,[ShipDate]\r\n",
                "      ,[Status]\r\n",
                "      ,[OnlineOrderFlag]\r\n",
                "      ,[SalesOrderNumber]\r\n",
                "      ,[PurchaseOrderNumber]\r\n",
                "      ,[AccountNumber]\r\n",
                "      ,[CustomerID]\r\n",
                "      ,[ShipToAddressID]\r\n",
                "      ,[BillToAddressID]\r\n",
                "      ,[ShipMethod]\r\n",
                "      ,[CreditCardApprovalCode]\r\n",
                "      ,[SubTotal]\r\n",
                "      ,[TaxAmt]\r\n",
                "      ,[Freight]\r\n",
                "      ,[TotalDue]\r\n",
                "      ,[Comment]\r\n",
                "      ,[rowguid]\r\n",
                "      ,[ModifiedDate]\r\n",
                "From SalesLT.SalesOrderHeader"
            ],
            "metadata": {
                "azdata_cell_guid": "089a20a3-72a1-4eda-a1ab-c860964559d0",
                "language": "sql",
                "tags": [
                    "hide_input"
                ]
            },
            "outputs": [
                {
                    "output_type": "display_data",
                    "data": {
                        "text/html": "(9 rows affected)"
                    },
                    "metadata": {}
                },
                {
                    "output_type": "display_data",
                    "data": {
                        "text/html": "Total execution time: 00:00:00.069"
                    },
                    "metadata": {}
                },
                {
                    "output_type": "execute_result",
                    "metadata": {},
                    "execution_count": 14,
                    "data": {
                        "application/vnd.dataresource+json": {
                            "schema": {
                                "fields": [
                                    {
                                        "name": "SalesOrderID"
                                    },
                                    {
                                        "name": "RevisionNumber"
                                    },
                                    {
                                        "name": "OrderDate"
                                    },
                                    {
                                        "name": "DueDate"
                                    },
                                    {
                                        "name": "ShipDate"
                                    },
                                    {
                                        "name": "Status"
                                    },
                                    {
                                        "name": "OnlineOrderFlag"
                                    },
                                    {
                                        "name": "SalesOrderNumber"
                                    },
                                    {
                                        "name": "PurchaseOrderNumber"
                                    },
                                    {
                                        "name": "AccountNumber"
                                    },
                                    {
                                        "name": "CustomerID"
                                    },
                                    {
                                        "name": "ShipToAddressID"
                                    },
                                    {
                                        "name": "BillToAddressID"
                                    },
                                    {
                                        "name": "ShipMethod"
                                    },
                                    {
                                        "name": "CreditCardApprovalCode"
                                    },
                                    {
                                        "name": "SubTotal"
                                    },
                                    {
                                        "name": "TaxAmt"
                                    },
                                    {
                                        "name": "Freight"
                                    },
                                    {
                                        "name": "TotalDue"
                                    },
                                    {
                                        "name": "Comment"
                                    },
                                    {
                                        "name": "rowguid"
                                    },
                                    {
                                        "name": "ModifiedDate"
                                    }
                                ]
                            },
                            "data": [
                                {
                                    "SalesOrderID": "71774",
                                    "RevisionNumber": "2",
                                    "OrderDate": "2008-06-01 00:00:00.000",
                                    "DueDate": "2008-06-13 00:00:00.000",
                                    "ShipDate": "2008-06-08 00:00:00.000",
                                    "Status": "5",
                                    "OnlineOrderFlag": "0",
                                    "SalesOrderNumber": "SO71774",
                                    "PurchaseOrderNumber": "PO348186287",
                                    "AccountNumber": "10-4020-000609",
                                    "CustomerID": "29847",
                                    "ShipToAddressID": "1092",
                                    "BillToAddressID": "1092",
                                    "ShipMethod": "CARGO TRANSPORT 5",
                                    "CreditCardApprovalCode": "NULL",
                                    "SubTotal": "880.3484",
                                    "TaxAmt": "70.4279",
                                    "Freight": "22.0087",
                                    "TotalDue": "972.785",
                                    "Comment": "NULL",
                                    "rowguid": "89e42cdc-8506-48a2-b89b-eb3e64e3554e",
                                    "ModifiedDate": "2008-06-08 00:00:00.000"
                                },
                                {
                                    "SalesOrderID": "71776",
                                    "RevisionNumber": "2",
                                    "OrderDate": "2008-06-01 00:00:00.000",
                                    "DueDate": "2008-06-13 00:00:00.000",
                                    "ShipDate": "2008-06-08 00:00:00.000",
                                    "Status": "5",
                                    "OnlineOrderFlag": "0",
                                    "SalesOrderNumber": "SO71776",
                                    "PurchaseOrderNumber": "PO19952192051",
                                    "AccountNumber": "10-4020-000106",
                                    "CustomerID": "30072",
                                    "ShipToAddressID": "640",
                                    "BillToAddressID": "640",
                                    "ShipMethod": "CARGO TRANSPORT 5",
                                    "CreditCardApprovalCode": "NULL",
                                    "SubTotal": "78.81",
                                    "TaxAmt": "6.3048",
                                    "Freight": "1.9703",
                                    "TotalDue": "87.0851",
                                    "Comment": "NULL",
                                    "rowguid": "8a3448c5-e677-4158-a29b-dd33069be0b0",
                                    "ModifiedDate": "2008-06-08 00:00:00.000"
                                },
                                {
                                    "SalesOrderID": "71780",
                                    "RevisionNumber": "2",
                                    "OrderDate": "2008-06-01 00:00:00.000",
                                    "DueDate": "2008-06-13 00:00:00.000",
                                    "ShipDate": "2008-06-08 00:00:00.000",
                                    "Status": "5",
                                    "OnlineOrderFlag": "0",
                                    "SalesOrderNumber": "SO71780",
                                    "PurchaseOrderNumber": "PO19604173239",
                                    "AccountNumber": "10-4020-000340",
                                    "CustomerID": "30113",
                                    "ShipToAddressID": "653",
                                    "BillToAddressID": "653",
                                    "ShipMethod": "CARGO TRANSPORT 5",
                                    "CreditCardApprovalCode": "NULL",
                                    "SubTotal": "38418.6895",
                                    "TaxAmt": "3073.4952",
                                    "Freight": "960.4672",
                                    "TotalDue": "42452.6519",
                                    "Comment": "NULL",
                                    "rowguid": "a47665d2-7ac9-4cf3-8a8b-2a3883554284",
                                    "ModifiedDate": "2008-06-08 00:00:00.000"
                                },
                                {
                                    "SalesOrderID": "71782",
                                    "RevisionNumber": "2",
                                    "OrderDate": "2008-06-01 00:00:00.000",
                                    "DueDate": "2008-06-13 00:00:00.000",
                                    "ShipDate": "2008-06-08 00:00:00.000",
                                    "Status": "5",
                                    "OnlineOrderFlag": "0",
                                    "SalesOrderNumber": "SO71782",
                                    "PurchaseOrderNumber": "PO19372114749",
                                    "AccountNumber": "10-4020-000582",
                                    "CustomerID": "29485",
                                    "ShipToAddressID": "1086",
                                    "BillToAddressID": "1086",
                                    "ShipMethod": "CARGO TRANSPORT 5",
                                    "CreditCardApprovalCode": "NULL",
                                    "SubTotal": "39785.3304",
                                    "TaxAmt": "3182.8264",
                                    "Freight": "994.6333",
                                    "TotalDue": "43962.7901",
                                    "Comment": "NULL",
                                    "rowguid": "f1be45a5-5c57-4a50-93c6-5f8be44cb7cb",
                                    "ModifiedDate": "2008-06-08 00:00:00.000"
                                },
                                {
                                    "SalesOrderID": "71783",
                                    "RevisionNumber": "2",
                                    "OrderDate": "2008-06-01 00:00:00.000",
                                    "DueDate": "2008-06-13 00:00:00.000",
                                    "ShipDate": "2008-06-08 00:00:00.000",
                                    "Status": "5",
                                    "OnlineOrderFlag": "0",
                                    "SalesOrderNumber": "SO71783",
                                    "PurchaseOrderNumber": "PO19343113609",
                                    "AccountNumber": "10-4020-000024",
                                    "CustomerID": "29957",
                                    "ShipToAddressID": "992",
                                    "BillToAddressID": "992",
                                    "ShipMethod": "CARGO TRANSPORT 5",
                                    "CreditCardApprovalCode": "NULL",
                                    "SubTotal": "83858.4261",
                                    "TaxAmt": "6708.6741",
                                    "Freight": "2096.4607",
                                    "TotalDue": "92663.5609",
                                    "Comment": "NULL",
                                    "rowguid": "7db2329e-6446-42a8-8915-9c8370b68ed8",
                                    "ModifiedDate": "2008-06-08 00:00:00.000"
                                },
                                {
                                    "SalesOrderID": "71784",
                                    "RevisionNumber": "2",
                                    "OrderDate": "2008-06-01 00:00:00.000",
                                    "DueDate": "2008-06-13 00:00:00.000",
                                    "ShipDate": "2008-06-08 00:00:00.000",
                                    "Status": "5",
                                    "OnlineOrderFlag": "0",
                                    "SalesOrderNumber": "SO71784",
                                    "PurchaseOrderNumber": "PO19285135919",
                                    "AccountNumber": "10-4020-000448",
                                    "CustomerID": "29736",
                                    "ShipToAddressID": "659",
                                    "BillToAddressID": "659",
                                    "ShipMethod": "CARGO TRANSPORT 5",
                                    "CreditCardApprovalCode": "NULL",
                                    "SubTotal": "108561.8317",
                                    "TaxAmt": "8684.9465",
                                    "Freight": "2714.0458",
                                    "TotalDue": "119960.824",
                                    "Comment": "NULL",
                                    "rowguid": "ca31f324-2c32-4f8d-95eb-596e7f343027",
                                    "ModifiedDate": "2008-06-08 00:00:00.000"
                                },
                                {
                                    "SalesOrderID": "71796",
                                    "RevisionNumber": "2",
                                    "OrderDate": "2008-06-01 00:00:00.000",
                                    "DueDate": "2008-06-13 00:00:00.000",
                                    "ShipDate": "2008-06-08 00:00:00.000",
                                    "Status": "5",
                                    "OnlineOrderFlag": "0",
                                    "SalesOrderNumber": "SO71796",
                                    "PurchaseOrderNumber": "PO17052159664",
                                    "AccountNumber": "10-4020-000420",
                                    "CustomerID": "29660",
                                    "ShipToAddressID": "1058",
                                    "BillToAddressID": "1058",
                                    "ShipMethod": "CARGO TRANSPORT 5",
                                    "CreditCardApprovalCode": "NULL",
                                    "SubTotal": "57634.6342",
                                    "TaxAmt": "4610.7707",
                                    "Freight": "1440.8659",
                                    "TotalDue": "63686.2708",
                                    "Comment": "NULL",
                                    "rowguid": "917ef5ba-f32d-4563-8588-66db0bcdc846",
                                    "ModifiedDate": "2008-06-08 00:00:00.000"
                                },
                                {
                                    "SalesOrderID": "71797",
                                    "RevisionNumber": "2",
                                    "OrderDate": "2008-06-01 00:00:00.000",
                                    "DueDate": "2008-06-13 00:00:00.000",
                                    "ShipDate": "2008-06-08 00:00:00.000",
                                    "Status": "5",
                                    "OnlineOrderFlag": "0",
                                    "SalesOrderNumber": "SO71797",
                                    "PurchaseOrderNumber": "PO16501134889",
                                    "AccountNumber": "10-4020-000142",
                                    "CustomerID": "29796",
                                    "ShipToAddressID": "642",
                                    "BillToAddressID": "642",
                                    "ShipMethod": "CARGO TRANSPORT 5",
                                    "CreditCardApprovalCode": "NULL",
                                    "SubTotal": "78029.6898",
                                    "TaxAmt": "6242.3752",
                                    "Freight": "1950.7422",
                                    "TotalDue": "86222.8072",
                                    "Comment": "NULL",
                                    "rowguid": "bb3fee84-c8bf-4dd2-bcca-675ab6a11c38",
                                    "ModifiedDate": "2008-06-08 00:00:00.000"
                                },
                                {
                                    "SalesOrderID": "71815",
                                    "RevisionNumber": "2",
                                    "OrderDate": "2008-06-01 00:00:00.000",
                                    "DueDate": "2008-06-13 00:00:00.000",
                                    "ShipDate": "2008-06-08 00:00:00.000",
                                    "Status": "5",
                                    "OnlineOrderFlag": "0",
                                    "SalesOrderNumber": "SO71815",
                                    "PurchaseOrderNumber": "PO13021155785",
                                    "AccountNumber": "10-4020-000276",
                                    "CustomerID": "30089",
                                    "ShipToAddressID": "1034",
                                    "BillToAddressID": "1034",
                                    "ShipMethod": "CARGO TRANSPORT 5",
                                    "CreditCardApprovalCode": "NULL",
                                    "SubTotal": "1141.5782",
                                    "TaxAmt": "91.3263",
                                    "Freight": "28.5395",
                                    "TotalDue": "1261.444",
                                    "Comment": "NULL",
                                    "rowguid": "2aa5f39b-1096-4a4b-b17b-f10504a397ce",
                                    "ModifiedDate": "2008-06-08 00:00:00.000"
                                }
                            ]
                        },
                        "text/html": [
                            "<table>",
                            "<tr><th>SalesOrderID</th><th>RevisionNumber</th><th>OrderDate</th><th>DueDate</th><th>ShipDate</th><th>Status</th><th>OnlineOrderFlag</th><th>SalesOrderNumber</th><th>PurchaseOrderNumber</th><th>AccountNumber</th><th>CustomerID</th><th>ShipToAddressID</th><th>BillToAddressID</th><th>ShipMethod</th><th>CreditCardApprovalCode</th><th>SubTotal</th><th>TaxAmt</th><th>Freight</th><th>TotalDue</th><th>Comment</th><th>rowguid</th><th>ModifiedDate</th></tr>",
                            "<tr><td>71774</td><td>2</td><td>2008-06-01 00:00:00.000</td><td>2008-06-13 00:00:00.000</td><td>2008-06-08 00:00:00.000</td><td>5</td><td>0</td><td>SO71774</td><td>PO348186287</td><td>10-4020-000609</td><td>29847</td><td>1092</td><td>1092</td><td>CARGO TRANSPORT 5</td><td>NULL</td><td>880.3484</td><td>70.4279</td><td>22.0087</td><td>972.785</td><td>NULL</td><td>89e42cdc-8506-48a2-b89b-eb3e64e3554e</td><td>2008-06-08 00:00:00.000</td></tr>",
                            "<tr><td>71776</td><td>2</td><td>2008-06-01 00:00:00.000</td><td>2008-06-13 00:00:00.000</td><td>2008-06-08 00:00:00.000</td><td>5</td><td>0</td><td>SO71776</td><td>PO19952192051</td><td>10-4020-000106</td><td>30072</td><td>640</td><td>640</td><td>CARGO TRANSPORT 5</td><td>NULL</td><td>78.81</td><td>6.3048</td><td>1.9703</td><td>87.0851</td><td>NULL</td><td>8a3448c5-e677-4158-a29b-dd33069be0b0</td><td>2008-06-08 00:00:00.000</td></tr>",
                            "<tr><td>71780</td><td>2</td><td>2008-06-01 00:00:00.000</td><td>2008-06-13 00:00:00.000</td><td>2008-06-08 00:00:00.000</td><td>5</td><td>0</td><td>SO71780</td><td>PO19604173239</td><td>10-4020-000340</td><td>30113</td><td>653</td><td>653</td><td>CARGO TRANSPORT 5</td><td>NULL</td><td>38418.6895</td><td>3073.4952</td><td>960.4672</td><td>42452.6519</td><td>NULL</td><td>a47665d2-7ac9-4cf3-8a8b-2a3883554284</td><td>2008-06-08 00:00:00.000</td></tr>",
                            "<tr><td>71782</td><td>2</td><td>2008-06-01 00:00:00.000</td><td>2008-06-13 00:00:00.000</td><td>2008-06-08 00:00:00.000</td><td>5</td><td>0</td><td>SO71782</td><td>PO19372114749</td><td>10-4020-000582</td><td>29485</td><td>1086</td><td>1086</td><td>CARGO TRANSPORT 5</td><td>NULL</td><td>39785.3304</td><td>3182.8264</td><td>994.6333</td><td>43962.7901</td><td>NULL</td><td>f1be45a5-5c57-4a50-93c6-5f8be44cb7cb</td><td>2008-06-08 00:00:00.000</td></tr>",
                            "<tr><td>71783</td><td>2</td><td>2008-06-01 00:00:00.000</td><td>2008-06-13 00:00:00.000</td><td>2008-06-08 00:00:00.000</td><td>5</td><td>0</td><td>SO71783</td><td>PO19343113609</td><td>10-4020-000024</td><td>29957</td><td>992</td><td>992</td><td>CARGO TRANSPORT 5</td><td>NULL</td><td>83858.4261</td><td>6708.6741</td><td>2096.4607</td><td>92663.5609</td><td>NULL</td><td>7db2329e-6446-42a8-8915-9c8370b68ed8</td><td>2008-06-08 00:00:00.000</td></tr>",
                            "<tr><td>71784</td><td>2</td><td>2008-06-01 00:00:00.000</td><td>2008-06-13 00:00:00.000</td><td>2008-06-08 00:00:00.000</td><td>5</td><td>0</td><td>SO71784</td><td>PO19285135919</td><td>10-4020-000448</td><td>29736</td><td>659</td><td>659</td><td>CARGO TRANSPORT 5</td><td>NULL</td><td>108561.8317</td><td>8684.9465</td><td>2714.0458</td><td>119960.824</td><td>NULL</td><td>ca31f324-2c32-4f8d-95eb-596e7f343027</td><td>2008-06-08 00:00:00.000</td></tr>",
                            "<tr><td>71796</td><td>2</td><td>2008-06-01 00:00:00.000</td><td>2008-06-13 00:00:00.000</td><td>2008-06-08 00:00:00.000</td><td>5</td><td>0</td><td>SO71796</td><td>PO17052159664</td><td>10-4020-000420</td><td>29660</td><td>1058</td><td>1058</td><td>CARGO TRANSPORT 5</td><td>NULL</td><td>57634.6342</td><td>4610.7707</td><td>1440.8659</td><td>63686.2708</td><td>NULL</td><td>917ef5ba-f32d-4563-8588-66db0bcdc846</td><td>2008-06-08 00:00:00.000</td></tr>",
                            "<tr><td>71797</td><td>2</td><td>2008-06-01 00:00:00.000</td><td>2008-06-13 00:00:00.000</td><td>2008-06-08 00:00:00.000</td><td>5</td><td>0</td><td>SO71797</td><td>PO16501134889</td><td>10-4020-000142</td><td>29796</td><td>642</td><td>642</td><td>CARGO TRANSPORT 5</td><td>NULL</td><td>78029.6898</td><td>6242.3752</td><td>1950.7422</td><td>86222.8072</td><td>NULL</td><td>bb3fee84-c8bf-4dd2-bcca-675ab6a11c38</td><td>2008-06-08 00:00:00.000</td></tr>",
                            "<tr><td>71815</td><td>2</td><td>2008-06-01 00:00:00.000</td><td>2008-06-13 00:00:00.000</td><td>2008-06-08 00:00:00.000</td><td>5</td><td>0</td><td>SO71815</td><td>PO13021155785</td><td>10-4020-000276</td><td>30089</td><td>1034</td><td>1034</td><td>CARGO TRANSPORT 5</td><td>NULL</td><td>1141.5782</td><td>91.3263</td><td>28.5395</td><td>1261.444</td><td>NULL</td><td>2aa5f39b-1096-4a4b-b17b-f10504a397ce</td><td>2008-06-08 00:00:00.000</td></tr>",
                            "</table>"
                        ]
                    }
                }
            ],
            "execution_count": 14
        },
        {
            "cell_type": "code",
            "source": [
                "Select Top(9) [SalesOrderID]\r\n",
                "      ,[RevisionNumber]\r\n",
                "      ,[OrderDate]\r\n",
                "      ,[DueDate]\r\n",
                "      ,[ShipDate]\r\n",
                "      ,[Status]\r\n",
                "      ,[OnlineOrderFlag]\r\n",
                "      ,[SalesOrderNumber]\r\n",
                "      ,[PurchaseOrderNumber]\r\n",
                "      ,[AccountNumber]\r\n",
                "      ,[CustomerID]\r\n",
                "      ,[ShipToAddressID]\r\n",
                "      ,[BillToAddressID]\r\n",
                "      ,[ShipMethod]\r\n",
                "      ,[CreditCardApprovalCode]\r\n",
                "      ,[SubTotal]\r\n",
                "      ,[TaxAmt]\r\n",
                "      ,[Freight]\r\n",
                "      ,[TotalDue]\r\n",
                "      ,[Comment]\r\n",
                "      ,[rowguid]\r\n",
                "      ,[ModifiedDate]\r\n",
                "    From SalesLT.SalesOrderHeader"
            ],
            "metadata": {
                "language": "sql",
                "azdata_cell_guid": "aaa99bf5-9bbe-4d46-9ab0-53a768ce34fc",
                "tags": [
                    "hide_input"
                ]
            },
            "outputs": [
                {
                    "output_type": "display_data",
                    "data": {
                        "text/html": "(9 rows affected)"
                    },
                    "metadata": {}
                },
                {
                    "output_type": "display_data",
                    "data": {
                        "text/html": "Total execution time: 00:00:00.070"
                    },
                    "metadata": {}
                },
                {
                    "output_type": "execute_result",
                    "metadata": {},
                    "execution_count": 11,
                    "data": {
                        "application/vnd.dataresource+json": {
                            "schema": {
                                "fields": [
                                    {
                                        "name": "SalesOrderID"
                                    },
                                    {
                                        "name": "RevisionNumber"
                                    },
                                    {
                                        "name": "OrderDate"
                                    },
                                    {
                                        "name": "DueDate"
                                    },
                                    {
                                        "name": "ShipDate"
                                    },
                                    {
                                        "name": "Status"
                                    },
                                    {
                                        "name": "OnlineOrderFlag"
                                    },
                                    {
                                        "name": "SalesOrderNumber"
                                    },
                                    {
                                        "name": "PurchaseOrderNumber"
                                    },
                                    {
                                        "name": "AccountNumber"
                                    },
                                    {
                                        "name": "CustomerID"
                                    },
                                    {
                                        "name": "ShipToAddressID"
                                    },
                                    {
                                        "name": "BillToAddressID"
                                    },
                                    {
                                        "name": "ShipMethod"
                                    },
                                    {
                                        "name": "CreditCardApprovalCode"
                                    },
                                    {
                                        "name": "SubTotal"
                                    },
                                    {
                                        "name": "TaxAmt"
                                    },
                                    {
                                        "name": "Freight"
                                    },
                                    {
                                        "name": "TotalDue"
                                    },
                                    {
                                        "name": "Comment"
                                    },
                                    {
                                        "name": "rowguid"
                                    },
                                    {
                                        "name": "ModifiedDate"
                                    }
                                ]
                            },
                            "data": [
                                {
                                    "SalesOrderID": "71774",
                                    "RevisionNumber": "2",
                                    "OrderDate": "2008-06-01 00:00:00.000",
                                    "DueDate": "2008-06-13 00:00:00.000",
                                    "ShipDate": "2008-06-08 00:00:00.000",
                                    "Status": "5",
                                    "OnlineOrderFlag": "0",
                                    "SalesOrderNumber": "SO71774",
                                    "PurchaseOrderNumber": "PO348186287",
                                    "AccountNumber": "10-4020-000609",
                                    "CustomerID": "29847",
                                    "ShipToAddressID": "1092",
                                    "BillToAddressID": "1092",
                                    "ShipMethod": "CARGO TRANSPORT 5",
                                    "CreditCardApprovalCode": "NULL",
                                    "SubTotal": "880.3484",
                                    "TaxAmt": "70.4279",
                                    "Freight": "22.0087",
                                    "TotalDue": "972.785",
                                    "Comment": "NULL",
                                    "rowguid": "89e42cdc-8506-48a2-b89b-eb3e64e3554e",
                                    "ModifiedDate": "2008-06-08 00:00:00.000"
                                },
                                {
                                    "SalesOrderID": "71776",
                                    "RevisionNumber": "2",
                                    "OrderDate": "2008-06-01 00:00:00.000",
                                    "DueDate": "2008-06-13 00:00:00.000",
                                    "ShipDate": "2008-06-08 00:00:00.000",
                                    "Status": "5",
                                    "OnlineOrderFlag": "0",
                                    "SalesOrderNumber": "SO71776",
                                    "PurchaseOrderNumber": "PO19952192051",
                                    "AccountNumber": "10-4020-000106",
                                    "CustomerID": "30072",
                                    "ShipToAddressID": "640",
                                    "BillToAddressID": "640",
                                    "ShipMethod": "CARGO TRANSPORT 5",
                                    "CreditCardApprovalCode": "NULL",
                                    "SubTotal": "78.81",
                                    "TaxAmt": "6.3048",
                                    "Freight": "1.9703",
                                    "TotalDue": "87.0851",
                                    "Comment": "NULL",
                                    "rowguid": "8a3448c5-e677-4158-a29b-dd33069be0b0",
                                    "ModifiedDate": "2008-06-08 00:00:00.000"
                                },
                                {
                                    "SalesOrderID": "71780",
                                    "RevisionNumber": "2",
                                    "OrderDate": "2008-06-01 00:00:00.000",
                                    "DueDate": "2008-06-13 00:00:00.000",
                                    "ShipDate": "2008-06-08 00:00:00.000",
                                    "Status": "5",
                                    "OnlineOrderFlag": "0",
                                    "SalesOrderNumber": "SO71780",
                                    "PurchaseOrderNumber": "PO19604173239",
                                    "AccountNumber": "10-4020-000340",
                                    "CustomerID": "30113",
                                    "ShipToAddressID": "653",
                                    "BillToAddressID": "653",
                                    "ShipMethod": "CARGO TRANSPORT 5",
                                    "CreditCardApprovalCode": "NULL",
                                    "SubTotal": "38418.6895",
                                    "TaxAmt": "3073.4952",
                                    "Freight": "960.4672",
                                    "TotalDue": "42452.6519",
                                    "Comment": "NULL",
                                    "rowguid": "a47665d2-7ac9-4cf3-8a8b-2a3883554284",
                                    "ModifiedDate": "2008-06-08 00:00:00.000"
                                },
                                {
                                    "SalesOrderID": "71782",
                                    "RevisionNumber": "2",
                                    "OrderDate": "2008-06-01 00:00:00.000",
                                    "DueDate": "2008-06-13 00:00:00.000",
                                    "ShipDate": "2008-06-08 00:00:00.000",
                                    "Status": "5",
                                    "OnlineOrderFlag": "0",
                                    "SalesOrderNumber": "SO71782",
                                    "PurchaseOrderNumber": "PO19372114749",
                                    "AccountNumber": "10-4020-000582",
                                    "CustomerID": "29485",
                                    "ShipToAddressID": "1086",
                                    "BillToAddressID": "1086",
                                    "ShipMethod": "CARGO TRANSPORT 5",
                                    "CreditCardApprovalCode": "NULL",
                                    "SubTotal": "39785.3304",
                                    "TaxAmt": "3182.8264",
                                    "Freight": "994.6333",
                                    "TotalDue": "43962.7901",
                                    "Comment": "NULL",
                                    "rowguid": "f1be45a5-5c57-4a50-93c6-5f8be44cb7cb",
                                    "ModifiedDate": "2008-06-08 00:00:00.000"
                                },
                                {
                                    "SalesOrderID": "71783",
                                    "RevisionNumber": "2",
                                    "OrderDate": "2008-06-01 00:00:00.000",
                                    "DueDate": "2008-06-13 00:00:00.000",
                                    "ShipDate": "2008-06-08 00:00:00.000",
                                    "Status": "5",
                                    "OnlineOrderFlag": "0",
                                    "SalesOrderNumber": "SO71783",
                                    "PurchaseOrderNumber": "PO19343113609",
                                    "AccountNumber": "10-4020-000024",
                                    "CustomerID": "29957",
                                    "ShipToAddressID": "992",
                                    "BillToAddressID": "992",
                                    "ShipMethod": "CARGO TRANSPORT 5",
                                    "CreditCardApprovalCode": "NULL",
                                    "SubTotal": "83858.4261",
                                    "TaxAmt": "6708.6741",
                                    "Freight": "2096.4607",
                                    "TotalDue": "92663.5609",
                                    "Comment": "NULL",
                                    "rowguid": "7db2329e-6446-42a8-8915-9c8370b68ed8",
                                    "ModifiedDate": "2008-06-08 00:00:00.000"
                                },
                                {
                                    "SalesOrderID": "71784",
                                    "RevisionNumber": "2",
                                    "OrderDate": "2008-06-01 00:00:00.000",
                                    "DueDate": "2008-06-13 00:00:00.000",
                                    "ShipDate": "2008-06-08 00:00:00.000",
                                    "Status": "5",
                                    "OnlineOrderFlag": "0",
                                    "SalesOrderNumber": "SO71784",
                                    "PurchaseOrderNumber": "PO19285135919",
                                    "AccountNumber": "10-4020-000448",
                                    "CustomerID": "29736",
                                    "ShipToAddressID": "659",
                                    "BillToAddressID": "659",
                                    "ShipMethod": "CARGO TRANSPORT 5",
                                    "CreditCardApprovalCode": "NULL",
                                    "SubTotal": "108561.8317",
                                    "TaxAmt": "8684.9465",
                                    "Freight": "2714.0458",
                                    "TotalDue": "119960.824",
                                    "Comment": "NULL",
                                    "rowguid": "ca31f324-2c32-4f8d-95eb-596e7f343027",
                                    "ModifiedDate": "2008-06-08 00:00:00.000"
                                },
                                {
                                    "SalesOrderID": "71796",
                                    "RevisionNumber": "2",
                                    "OrderDate": "2008-06-01 00:00:00.000",
                                    "DueDate": "2008-06-13 00:00:00.000",
                                    "ShipDate": "2008-06-08 00:00:00.000",
                                    "Status": "5",
                                    "OnlineOrderFlag": "0",
                                    "SalesOrderNumber": "SO71796",
                                    "PurchaseOrderNumber": "PO17052159664",
                                    "AccountNumber": "10-4020-000420",
                                    "CustomerID": "29660",
                                    "ShipToAddressID": "1058",
                                    "BillToAddressID": "1058",
                                    "ShipMethod": "CARGO TRANSPORT 5",
                                    "CreditCardApprovalCode": "NULL",
                                    "SubTotal": "57634.6342",
                                    "TaxAmt": "4610.7707",
                                    "Freight": "1440.8659",
                                    "TotalDue": "63686.2708",
                                    "Comment": "NULL",
                                    "rowguid": "917ef5ba-f32d-4563-8588-66db0bcdc846",
                                    "ModifiedDate": "2008-06-08 00:00:00.000"
                                },
                                {
                                    "SalesOrderID": "71797",
                                    "RevisionNumber": "2",
                                    "OrderDate": "2008-06-01 00:00:00.000",
                                    "DueDate": "2008-06-13 00:00:00.000",
                                    "ShipDate": "2008-06-08 00:00:00.000",
                                    "Status": "5",
                                    "OnlineOrderFlag": "0",
                                    "SalesOrderNumber": "SO71797",
                                    "PurchaseOrderNumber": "PO16501134889",
                                    "AccountNumber": "10-4020-000142",
                                    "CustomerID": "29796",
                                    "ShipToAddressID": "642",
                                    "BillToAddressID": "642",
                                    "ShipMethod": "CARGO TRANSPORT 5",
                                    "CreditCardApprovalCode": "NULL",
                                    "SubTotal": "78029.6898",
                                    "TaxAmt": "6242.3752",
                                    "Freight": "1950.7422",
                                    "TotalDue": "86222.8072",
                                    "Comment": "NULL",
                                    "rowguid": "bb3fee84-c8bf-4dd2-bcca-675ab6a11c38",
                                    "ModifiedDate": "2008-06-08 00:00:00.000"
                                },
                                {
                                    "SalesOrderID": "71815",
                                    "RevisionNumber": "2",
                                    "OrderDate": "2008-06-01 00:00:00.000",
                                    "DueDate": "2008-06-13 00:00:00.000",
                                    "ShipDate": "2008-06-08 00:00:00.000",
                                    "Status": "5",
                                    "OnlineOrderFlag": "0",
                                    "SalesOrderNumber": "SO71815",
                                    "PurchaseOrderNumber": "PO13021155785",
                                    "AccountNumber": "10-4020-000276",
                                    "CustomerID": "30089",
                                    "ShipToAddressID": "1034",
                                    "BillToAddressID": "1034",
                                    "ShipMethod": "CARGO TRANSPORT 5",
                                    "CreditCardApprovalCode": "NULL",
                                    "SubTotal": "1141.5782",
                                    "TaxAmt": "91.3263",
                                    "Freight": "28.5395",
                                    "TotalDue": "1261.444",
                                    "Comment": "NULL",
                                    "rowguid": "2aa5f39b-1096-4a4b-b17b-f10504a397ce",
                                    "ModifiedDate": "2008-06-08 00:00:00.000"
                                }
                            ]
                        },
                        "text/html": [
                            "<table>",
                            "<tr><th>SalesOrderID</th><th>RevisionNumber</th><th>OrderDate</th><th>DueDate</th><th>ShipDate</th><th>Status</th><th>OnlineOrderFlag</th><th>SalesOrderNumber</th><th>PurchaseOrderNumber</th><th>AccountNumber</th><th>CustomerID</th><th>ShipToAddressID</th><th>BillToAddressID</th><th>ShipMethod</th><th>CreditCardApprovalCode</th><th>SubTotal</th><th>TaxAmt</th><th>Freight</th><th>TotalDue</th><th>Comment</th><th>rowguid</th><th>ModifiedDate</th></tr>",
                            "<tr><td>71774</td><td>2</td><td>2008-06-01 00:00:00.000</td><td>2008-06-13 00:00:00.000</td><td>2008-06-08 00:00:00.000</td><td>5</td><td>0</td><td>SO71774</td><td>PO348186287</td><td>10-4020-000609</td><td>29847</td><td>1092</td><td>1092</td><td>CARGO TRANSPORT 5</td><td>NULL</td><td>880.3484</td><td>70.4279</td><td>22.0087</td><td>972.785</td><td>NULL</td><td>89e42cdc-8506-48a2-b89b-eb3e64e3554e</td><td>2008-06-08 00:00:00.000</td></tr>",
                            "<tr><td>71776</td><td>2</td><td>2008-06-01 00:00:00.000</td><td>2008-06-13 00:00:00.000</td><td>2008-06-08 00:00:00.000</td><td>5</td><td>0</td><td>SO71776</td><td>PO19952192051</td><td>10-4020-000106</td><td>30072</td><td>640</td><td>640</td><td>CARGO TRANSPORT 5</td><td>NULL</td><td>78.81</td><td>6.3048</td><td>1.9703</td><td>87.0851</td><td>NULL</td><td>8a3448c5-e677-4158-a29b-dd33069be0b0</td><td>2008-06-08 00:00:00.000</td></tr>",
                            "<tr><td>71780</td><td>2</td><td>2008-06-01 00:00:00.000</td><td>2008-06-13 00:00:00.000</td><td>2008-06-08 00:00:00.000</td><td>5</td><td>0</td><td>SO71780</td><td>PO19604173239</td><td>10-4020-000340</td><td>30113</td><td>653</td><td>653</td><td>CARGO TRANSPORT 5</td><td>NULL</td><td>38418.6895</td><td>3073.4952</td><td>960.4672</td><td>42452.6519</td><td>NULL</td><td>a47665d2-7ac9-4cf3-8a8b-2a3883554284</td><td>2008-06-08 00:00:00.000</td></tr>",
                            "<tr><td>71782</td><td>2</td><td>2008-06-01 00:00:00.000</td><td>2008-06-13 00:00:00.000</td><td>2008-06-08 00:00:00.000</td><td>5</td><td>0</td><td>SO71782</td><td>PO19372114749</td><td>10-4020-000582</td><td>29485</td><td>1086</td><td>1086</td><td>CARGO TRANSPORT 5</td><td>NULL</td><td>39785.3304</td><td>3182.8264</td><td>994.6333</td><td>43962.7901</td><td>NULL</td><td>f1be45a5-5c57-4a50-93c6-5f8be44cb7cb</td><td>2008-06-08 00:00:00.000</td></tr>",
                            "<tr><td>71783</td><td>2</td><td>2008-06-01 00:00:00.000</td><td>2008-06-13 00:00:00.000</td><td>2008-06-08 00:00:00.000</td><td>5</td><td>0</td><td>SO71783</td><td>PO19343113609</td><td>10-4020-000024</td><td>29957</td><td>992</td><td>992</td><td>CARGO TRANSPORT 5</td><td>NULL</td><td>83858.4261</td><td>6708.6741</td><td>2096.4607</td><td>92663.5609</td><td>NULL</td><td>7db2329e-6446-42a8-8915-9c8370b68ed8</td><td>2008-06-08 00:00:00.000</td></tr>",
                            "<tr><td>71784</td><td>2</td><td>2008-06-01 00:00:00.000</td><td>2008-06-13 00:00:00.000</td><td>2008-06-08 00:00:00.000</td><td>5</td><td>0</td><td>SO71784</td><td>PO19285135919</td><td>10-4020-000448</td><td>29736</td><td>659</td><td>659</td><td>CARGO TRANSPORT 5</td><td>NULL</td><td>108561.8317</td><td>8684.9465</td><td>2714.0458</td><td>119960.824</td><td>NULL</td><td>ca31f324-2c32-4f8d-95eb-596e7f343027</td><td>2008-06-08 00:00:00.000</td></tr>",
                            "<tr><td>71796</td><td>2</td><td>2008-06-01 00:00:00.000</td><td>2008-06-13 00:00:00.000</td><td>2008-06-08 00:00:00.000</td><td>5</td><td>0</td><td>SO71796</td><td>PO17052159664</td><td>10-4020-000420</td><td>29660</td><td>1058</td><td>1058</td><td>CARGO TRANSPORT 5</td><td>NULL</td><td>57634.6342</td><td>4610.7707</td><td>1440.8659</td><td>63686.2708</td><td>NULL</td><td>917ef5ba-f32d-4563-8588-66db0bcdc846</td><td>2008-06-08 00:00:00.000</td></tr>",
                            "<tr><td>71797</td><td>2</td><td>2008-06-01 00:00:00.000</td><td>2008-06-13 00:00:00.000</td><td>2008-06-08 00:00:00.000</td><td>5</td><td>0</td><td>SO71797</td><td>PO16501134889</td><td>10-4020-000142</td><td>29796</td><td>642</td><td>642</td><td>CARGO TRANSPORT 5</td><td>NULL</td><td>78029.6898</td><td>6242.3752</td><td>1950.7422</td><td>86222.8072</td><td>NULL</td><td>bb3fee84-c8bf-4dd2-bcca-675ab6a11c38</td><td>2008-06-08 00:00:00.000</td></tr>",
                            "<tr><td>71815</td><td>2</td><td>2008-06-01 00:00:00.000</td><td>2008-06-13 00:00:00.000</td><td>2008-06-08 00:00:00.000</td><td>5</td><td>0</td><td>SO71815</td><td>PO13021155785</td><td>10-4020-000276</td><td>30089</td><td>1034</td><td>1034</td><td>CARGO TRANSPORT 5</td><td>NULL</td><td>1141.5782</td><td>91.3263</td><td>28.5395</td><td>1261.444</td><td>NULL</td><td>2aa5f39b-1096-4a4b-b17b-f10504a397ce</td><td>2008-06-08 00:00:00.000</td></tr>",
                            "</table>"
                        ]
                    }
                }
            ],
            "execution_count": 11
        },
        {
            "cell_type": "code",
            "source": [
                "-- The CTE NAME\r\n",
                "WITH\r\n",
                "    SalesOrderDCTE\r\n",
                "    -- The CTE Name\r\n",
                "    AS\r\n",
                "    (\r\n",
                "        -- A Simple Expression\r\n",
                "        Select sod.[SalesOrderID]\r\n",
                "        , sh.[CustomerID]\r\n",
                "        , [OrderQty]\r\n",
                "        , [ProductID]\r\n",
                "        , [UnitPrice]\r\n",
                "        , [LineTotal]\r\n",
                "        , sod.[ModifiedDate]\r\n",
                "        , YEAR(sod.ModifiedDate) AS modYear\r\n",
                "        FROM SalesLT.SalesOrderDetail AS sod\r\n",
                "            INNER JOIN SalesLT.SalesOrderHeader sh\r\n",
                "            ON sod.SalesOrderID = sh.SalesOrderID\r\n",
                "    )\r\n",
                "SELECT\r\n",
                "    sodcte.CustomerID,\r\n",
                "    SUM(sodcte.OrderQty) AS totalQty,\r\n",
                "    sodcte.SalesOrderID\r\n",
                "From SalesOrderDCTE sodcte\r\n",
                "    LEFT JOIN SalesLT.SalesOrderDetail deets\r\n",
                "    ON sodcte.SalesOrderID = deets.SalesOrderID\r\n",
                "GROUP BY sodcte.SalesOrderID"
            ],
            "metadata": {
                "azdata_cell_guid": "b5f01e1a-b7dc-462b-bc13-bb42be1dbf1b",
                "language": "sql",
                "tags": []
            },
            "outputs": [
                {
                    "output_type": "error",
                    "evalue": "Msg 8120, Level 16, State 1, Line 19\r\nColumn 'SalesOrderDCTE.CustomerID' is invalid in the select list because it is not contained in either an aggregate function or the GROUP BY clause.",
                    "ename": "",
                    "traceback": []
                },
                {
                    "output_type": "display_data",
                    "data": {
                        "text/html": "Total execution time: 00:00:00.064"
                    },
                    "metadata": {}
                }
            ],
            "execution_count": 17
        }
    ]
}