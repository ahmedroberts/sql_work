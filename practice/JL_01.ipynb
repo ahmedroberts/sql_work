{
    "cells": [
        {
            "attachments": {},
            "cell_type": "markdown",
            "metadata": {
                "azdata_cell_guid": "a052daa0-8995-4d3c-b347-22b9977e26d7"
            },
            "source": [
                "# Use Stored Procedures\n",
                "\n",
                "Ahmed using stored procedures to alter tables"
            ]
        },
        {
            "cell_type": "code",
            "execution_count": null,
            "metadata": {
                "azdata_cell_guid": "f8199976-d6ec-4275-8bff-610cf7c84f40",
                "language": "sql",
                "tags": []
            },
            "outputs": [],
            "source": [
                "ALTER PROCEDURE zz.spJL_GetAll\n",
                "AS\n",
                "BEGIN\n",
                "    SET NOCOUNT ON\n",
                "    \n",
                "    SELECT ID, [Name], [Alias]\n",
                "    FROM zz.Superheroes\n",
                "END\n",
                "GO"
            ]
        },
        {
            "cell_type": "code",
            "execution_count": 1,
            "metadata": {
                "azdata_cell_guid": "1f6a3f37-06a7-47d4-a756-860a185c341c",
                "language": "sql"
            },
            "outputs": [
                {
                    "data": {
                        "text/html": [
                            "(3 rows affected)"
                        ]
                    },
                    "metadata": {},
                    "output_type": "display_data"
                },
                {
                    "data": {
                        "text/html": [
                            "Total execution time: 00:00:00.058"
                        ]
                    },
                    "metadata": {},
                    "output_type": "display_data"
                },
                {
                    "data": {
                        "application/vnd.dataresource+json": {
                            "data": [
                                {
                                    "Alias": "Superman",
                                    "ID": "1",
                                    "Name": "Clark Kent",
                                    "Origin": "Krypton",
                                    "Powers": "Super strength, Flight, Invulnerability, Heat vision, Freeze breath",
                                    "Team": "Justice League"
                                },
                                {
                                    "Alias": "Batman",
                                    "ID": "2",
                                    "Name": "Bruce Wayne",
                                    "Origin": "Gotham City",
                                    "Powers": "Peak human condition, Martial arts, High-tech equipment",
                                    "Team": "Justice League"
                                },
                                {
                                    "Alias": "Wonder Woman",
                                    "ID": "3",
                                    "Name": "Diana Prince",
                                    "Origin": "Themyscira",
                                    "Powers": "Super strength, Speed, Durability, Flight",
                                    "Team": "Justice League"
                                }
                            ],
                            "schema": {
                                "fields": [
                                    {
                                        "name": "ID"
                                    },
                                    {
                                        "name": "Name"
                                    },
                                    {
                                        "name": "Alias"
                                    },
                                    {
                                        "name": "Powers"
                                    },
                                    {
                                        "name": "Origin"
                                    },
                                    {
                                        "name": "Team"
                                    }
                                ]
                            }
                        },
                        "text/html": [
                            "<table><tr><th>ID</th><th>Name</th><th>Alias</th><th>Powers</th><th>Origin</th><th>Team</th></tr><tr><td>1</td><td>Clark Kent</td><td>Superman</td><td>Super strength, Flight, Invulnerability, Heat vision, Freeze breath</td><td>Krypton</td><td>Justice League</td></tr><tr><td>2</td><td>Bruce Wayne</td><td>Batman</td><td>Peak human condition, Martial arts, High-tech equipment</td><td>Gotham City</td><td>Justice League</td></tr><tr><td>3</td><td>Diana Prince</td><td>Wonder Woman</td><td>Super strength, Speed, Durability, Flight</td><td>Themyscira</td><td>Justice League</td></tr></table>"
                        ]
                    },
                    "execution_count": 1,
                    "metadata": {},
                    "output_type": "execute_result"
                }
            ],
            "source": [
                "Select * From [zz].[Superheroes]"
            ]
        },
        {
            "cell_type": "code",
            "execution_count": null,
            "metadata": {
                "azdata_cell_guid": "5ac42761-bf2a-4a03-bc41-412867511eac",
                "language": "sql"
            },
            "outputs": [],
            "source": [
                "EXEC zz.spJL_GetAll"
            ]
        },
        {
            "attachments": {},
            "cell_type": "markdown",
            "metadata": {
                "azdata_cell_guid": "e9ec3e7e-fa02-43b4-8034-ca04a8d7ecee"
            },
            "source": [
                "## Add parameters"
            ]
        },
        {
            "cell_type": "code",
            "execution_count": null,
            "metadata": {
                "azdata_cell_guid": "81fad346-4222-4570-9d78-02ddced18732",
                "language": "sql"
            },
            "outputs": [],
            "source": [
                "CREATE PROC zz.spJL_GetByAlias\n",
                "    @Alias VARCHAR(255)\n",
                "AS\n",
                "BEGIN\n",
                "    SELECT id, [Name], Alias\n",
                "    FROM zz.Superheroes\n",
                "    WHERE Alias = @Alias\n",
                "END"
            ]
        },
        {
            "attachments": {},
            "cell_type": "markdown",
            "metadata": {
                "azdata_cell_guid": "b39ab0f0-b57d-48d3-a68f-fb567bce24ef"
            },
            "source": [
                "> Excute with parameter data"
            ]
        },
        {
            "cell_type": "code",
            "execution_count": null,
            "metadata": {
                "azdata_cell_guid": "a34a5ced-71b3-42db-b688-c57230f85aad",
                "language": "sql"
            },
            "outputs": [],
            "source": [
                "-- Execute an parameterized Stored Procedure\n",
                "EXEC zz.spJL_GetByAlias @Alias = 'Batman'\n",
                "-- Execute an parameterized Stored Procedure\n",
                "-- Same because it hass all the variables in order, in this case just one\n",
                "EXEC zz.spJL_GetByAlias 'Batman'"
            ]
        }
    ],
    "metadata": {
        "kernelspec": {
            "display_name": "SQL",
            "language": "sql",
            "name": "SQL"
        },
        "language_info": {
            "name": "sql",
            "version": ""
        }
    },
    "nbformat": 4,
    "nbformat_minor": 2
}
