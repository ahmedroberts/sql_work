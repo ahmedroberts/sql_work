{
    "metadata": {
        "kernelspec": {
            "name": "SQL",
            "display_name": "SQL",
            "language": "sql"
        },
        "language_info": {
            "name": "sql",
            "version": ""
        }
    },
    "nbformat_minor": 2,
    "nbformat": 4,
    "cells": [
        {
            "cell_type": "markdown",
            "source": [
                "# Hacker Rank | MS SQL | T-SQL"
            ],
            "metadata": {
                "azdata_cell_guid": "af3bb87a-0eac-4c2b-9e14-459b734488f8"
            }
        },
        {
            "cell_type": "markdown",
            "source": [
                "### Weather Observation Station 5\n",
                "\n",
                "Query the two cities in STATION with the shortest and longest CITY names, as well as their respective lengths (i.e.: number of characters in the name). If there is more than one smallest or largest city, choose the one that comes first when ordered alphabetically.\n",
                "The STATION table is described as follows:"
            ],
            "metadata": {
                "azdata_cell_guid": "b64cd12d-3cd6-4ce9-9ea2-9fe6bfd57d05"
            }
        },
        {
            "cell_type": "code",
            "source": [
                "\n",
                "SELECT Top(1)\n",
                "    city, \n",
                "    len(city) As CityLen\n",
                "FROM Station\n",
                "ORDER BY CityLen, city;\n",
                "\n",
                "SELECT Top(1)\n",
                "    city, \n",
                "    len(city) As CityLen\n",
                "FROM Station\n",
                "ORDER BY CityLen DESC, city ASC;"
            ],
            "metadata": {
                "vscode": {
                    "languageId": "sql"
                },
                "azdata_cell_guid": "28c7dfa4-70e0-48b6-b6e3-05ea9ede6197",
                "language": "sql"
            },
            "outputs": [],
            "execution_count": null
        },
        {
            "cell_type": "markdown",
            "source": [
                "City Starts with a vowel"
            ],
            "metadata": {
                "azdata_cell_guid": "f3e03463-01ed-4e28-a9c5-9231e7a71960"
            },
            "attachments": {}
        },
        {
            "cell_type": "code",
            "source": [
                "\n",
                "SELECT DISTINCT\n",
                "    City\n",
                "FROM\n",
                "    STATION\n",
                "Where City like 'a%'\n",
                "OR City like 'e%'\n",
                "OR City like 'i%'\n",
                "OR City like 'o%'\n",
                "OR City like 'u%';"
            ],
            "metadata": {
                "vscode": {
                    "languageId": "sql"
                },
                "azdata_cell_guid": "451e6a80-fefb-4476-a789-a16bca028234",
                "language": "sql"
            },
            "outputs": [],
            "execution_count": null
        },
        {
            "cell_type": "markdown",
            "source": [
                "City Starts and ends with a vowel, no duplicates"
            ],
            "metadata": {
                "azdata_cell_guid": "013e1133-52fd-4404-98a0-97014b388b1e"
            }
        },
        {
            "cell_type": "code",
            "source": [
                "SELECT DISTINCT\n",
                "    City\n",
                "FROM\n",
                "    STATION\n",
                "Where \n",
                "-- starting with a vowel\n",
                "(City like 'a%'\n",
                "OR City like 'e%'\n",
                "OR City like 'i%'\n",
                "OR City like 'o%'\n",
                "OR City like 'u%')\n",
                "AND\n",
                "-- ending with a vowel\n",
                "(City like '%a'\n",
                "OR City like '%e'\n",
                "OR City like '%i'\n",
                "OR City like '%o'\n",
                "OR City like '%u')\n",
                ";"
            ],
            "metadata": {
                "vscode": {
                    "languageId": "sql"
                },
                "azdata_cell_guid": "8ac678b9-ce1a-4204-8c31-1659f0724d3b",
                "language": "sql"
            },
            "outputs": [],
            "execution_count": null
        },
        {
            "cell_type": "markdown",
            "source": [
                "List City that does not start with vowel"
            ],
            "metadata": {
                "azdata_cell_guid": "4870f173-be22-4731-b512-10b661f7138b"
            },
            "attachments": {}
        },
        {
            "cell_type": "code",
            "source": [
                "Select \n",
                "    Distinct City \n",
                "From Station\n",
                "Where City Not Like 'a%'\n",
                "AND City Not like 'e%'\n",
                "AND City Not like 'i%'\n",
                "AND City Not like 'o%'\n",
                "AND City Not like 'u%'\n",
                ";"
            ],
            "metadata": {
                "vscode": {
                    "languageId": "sql"
                },
                "azdata_cell_guid": "0574511d-4357-4a94-ab46-06255e683f00",
                "language": "sql",
                "tags": []
            },
            "outputs": [],
            "execution_count": null
        },
        {
            "cell_type": "markdown",
            "source": [
                "Query the list of CITY names from STATION that do not end with vowels. Your result cannot contain duplicates.\n",
                ""
            ],
            "metadata": {
                "azdata_cell_guid": "8caa899a-b8b5-4668-99b4-7644c4fd3c91"
            },
            "attachments": {}
        },
        {
            "cell_type": "code",
            "source": [
                "/*\r\n",
                "Enter your query here.\r\n",
                "Please append a semicolon \";\" at the end of the query and enter your query in a single line to avoid error.\r\n",
                "*/\r\n",
                "Select \r\n",
                "    Distinct City \r\n",
                "From Station\r\n",
                "Where City Not like '%a'\r\n",
                "And City Not like '%e'\r\n",
                "And City Not like '%i'\r\n",
                "And City Not like '%o'\r\n",
                "And City Not like '%u';"
            ],
            "metadata": {
                "azdata_cell_guid": "4c55ab23-54a9-4adc-9dfa-08a9c1c45b09",
                "language": "sql"
            },
            "outputs": [],
            "execution_count": null
        },
        {
            "cell_type": "markdown",
            "source": [
                "Query the list of CITY names from STATION that either do not start with vowels or do not end with vowels. Your result cannot contain duplicates."
            ],
            "metadata": {
                "azdata_cell_guid": "4a9cd54f-9a44-4438-8b9b-522443b9c77a"
            },
            "attachments": {}
        },
        {
            "cell_type": "code",
            "source": [
                "SELECT \r\n",
                "    Distinct City\r\n",
                "FROM STATION\r\n",
                "Where\r\n",
                "-- not starting with a vowel\r\n",
                "(City Not Like 'a%'\r\n",
                "AND City Not like 'e%'\r\n",
                "AND City Not like 'i%'\r\n",
                "AND City Not like 'o%'\r\n",
                "AND City Not like 'u%')\r\n",
                "OR\r\n",
                "-- not ending with a vowel\r\n",
                "(City Not Like '%a'\r\n",
                "AND City Not like '%e'\r\n",
                "AND City Not like '%i'\r\n",
                "AND City Not like '%o'\r\n",
                "AND City Not like '%u');"
            ],
            "metadata": {
                "azdata_cell_guid": "d5f65c4a-f1cd-41db-b8d9-3137f6dd1e04",
                "language": "sql"
            },
            "outputs": [],
            "execution_count": null
        },
        {
            "cell_type": "markdown",
            "source": [
                "Query the list of CITY names from STATION that do not start with vowels and do not end with vowels. Your result cannot contain duplicates."
            ],
            "metadata": {
                "azdata_cell_guid": "4f9d8eed-0724-4242-8e20-0e7cf88f944b"
            },
            "attachments": {}
        },
        {
            "cell_type": "code",
            "source": [
                "Select GETDATE()"
            ],
            "metadata": {
                "azdata_cell_guid": "e59eb94e-a12c-4200-a67f-ced21035a184",
                "language": "sql"
            },
            "outputs": [],
            "execution_count": null
        },
        {
            "cell_type": "markdown",
            "source": [
                "Query the Name of any student in STUDENTS who scored higher than  Marks. Order your output by the last three characters of each name. If two or more students both have names ending in the same last three characters (i.e.: Bobby, Robby, etc.), secondary sort them by ascending ID."
            ],
            "metadata": {
                "azdata_cell_guid": "872482d6-9dab-4915-bea3-7072cad1b2ff"
            },
            "attachments": {}
        },
        {
            "cell_type": "code",
            "source": [
                "Select * From Students;"
            ],
            "metadata": {
                "azdata_cell_guid": "2109df4b-1a63-4138-a850-866097e8393a",
                "language": "sql"
            },
            "outputs": [],
            "execution_count": null
        },
        {
            "cell_type": "markdown",
            "source": [
                "## Two Stars\n",
                "\n",
                "> HACKERRANK | Transact Standard Query Language | T-SQL\n",
                "\n",
                "Query the Name of any student in STUDENTS who scored higher than \\*75\\* Marks. Order your output by the last three characters of each name. If two or more students both have names ending in the same last three characters (i.e.: Bobby, Robby, etc.), secondary sort them by ascending ID."
            ],
            "metadata": {
                "azdata_cell_guid": "90136e55-0b04-46ed-bcf9-085ad6174ff0"
            },
            "attachments": {}
        },
        {
            "cell_type": "code",
            "source": [
                "SELECT\n",
                "    s.[Name]\n",
                "FROM Students s\n",
                "Where s.Marks > 75\n",
                "Order BY RIGHT(s.[Name], 3), s.ID ASC;"
            ],
            "metadata": {
                "azdata_cell_guid": "7a6c17ae-3b8e-48ec-9e82-4cd62a336840",
                "language": "sql"
            },
            "outputs": [],
            "execution_count": null
        }
    ]
}