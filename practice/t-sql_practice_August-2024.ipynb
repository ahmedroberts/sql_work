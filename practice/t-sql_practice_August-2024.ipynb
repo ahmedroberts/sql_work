{
 "cells": [
  {
   "cell_type": "markdown",
   "metadata": {},
   "source": [
    "# SQL Practice\n",
    "\n",
    "> Ahmed O. Roberts\n",
    ">\n",
    "> This is me practicing to be a full time Azure data engineer.<br>\n",
    "> August 30, 2024 "
   ]
  },
  {
   "cell_type": "code",
   "execution_count": null,
   "metadata": {
    "vscode": {
     "languageId": "sql"
    }
   },
   "outputs": [],
   "source": [
    "\n",
    "WITH counts AS (\n",
    "\tSelect \n",
    "\tProductID, COUNT(*) as cnt\n",
    "\tFrom SalesLT.SalesOrderDetail\n",
    "\tGROUP BY ProductID\n",
    "), \n",
    "\n",
    "\tranked AS (\n",
    "Select *, RANK() OVER(ORDER BY cnt DESC, ProductID) as rank\n",
    "From counts\t\n",
    "\t)\n",
    "\n",
    "SELECT * FROM ranked\n",
    "WHERE rank = 2 or rank = 5"
   ]
  },
  {
   "cell_type": "markdown",
   "metadata": {},
   "source": [
    "This gets the second and 5th ranked of something.\n",
    "> Learning from [Data with Zach](https://www.youtube.com/@EcZachly_/videos)\n",
    "\n",
    "```sql\n",
    "WITH counts AS (\n",
    "\tSelect \n",
    "\tProductID, COUNT(*) as cnt\n",
    "\tFrom SalesLT.SalesOrderDetail\n",
    "\tGROUP BY ProductID\n",
    "), \n",
    "\n",
    "\tranked AS (\n",
    "Select *, RANK() OVER(ORDER BY cnt DESC, ProductID) as rank\n",
    "From counts\t\n",
    "\t)\n",
    "\n",
    "SELECT * FROM ranked\n",
    "WHERE rank = 2 or rank = 5\n",
    "```\n"
   ]
  },
  {
   "cell_type": "markdown",
   "metadata": {},
   "source": [
    "## Create the tables\n",
    "\n",
    "SQL Markdown makes it really easy to write about what your queries are doing.\n",
    "\n",
    "```sql\n",
    "-- run_on_start\n",
    "CREATE TABLE Persons (\n",
    "  PersonID int,\n",
    "  LastName varchar(255),\n",
    "  FirstName varchar(255),\n",
    "  Address varchar(255),\n",
    "  City varchar(255)\n",
    ");\n",
    "```\n",
    "\n",
    "## Insert some data\n",
    "\n",
    "It's great for educational purposes.\n",
    "\n",
    "```sql\n",
    "-- run_on_start\n",
    "INSERT INTO Persons VALUES (\n",
    "  1,\n",
    "  'Kahler',\n",
    "  'Rico',\n",
    "  '123 street',\n",
    "  'Detroit'\n",
    ")\n",
    "```\n",
    "\n",
    "And makes for great demos!\n",
    "\n",
    "## See the results\n",
    "\n",
    "```sql\n",
    "-- run_on_start\n",
    "SELECT * FROM Persons;\n",
    "```\n",
    "\n",
    "## Get started with SQL Markdown\n",
    "\n",
    "[Back to the readme](https://github.com/ricokahler/sqlmarkdown)"
   ]
  }
 ],
 "metadata": {
  "language_info": {
   "name": "python"
  }
 },
 "nbformat": 4,
 "nbformat_minor": 2
}
