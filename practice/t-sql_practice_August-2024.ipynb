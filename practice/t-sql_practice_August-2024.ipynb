{
 "cells": [
  {
   "cell_type": "markdown",
   "metadata": {},
   "source": [
    "# SQL Practice\n",
    "\n",
    "> Ahmed O. Roberts\n",
    ">\n",
    "> This is me practicing to be a full time Azure data engineer.<br>\n",
    "> August 30, 2024 "
   ]
  },
  {
   "cell_type": "code",
   "execution_count": null,
   "metadata": {
    "vscode": {
     "languageId": "sql"
    }
   },
   "outputs": [],
   "source": [
    "\n",
    "WITH counts AS (\n",
    "\tSelect \n",
    "\tProductID, COUNT(*) as cnt\n",
    "\tFrom SalesLT.SalesOrderDetail\n",
    "\tGROUP BY ProductID\n",
    "), \n",
    "\n",
    "\tranked AS (\n",
    "Select *, RANK() OVER(ORDER BY cnt DESC, ProductID) as rank\n",
    "From counts\t\n",
    "\t)\n",
    "\n",
    "SELECT * FROM ranked\n",
    "WHERE rank = 2 or rank = 5"
   ]
  },
  {
   "cell_type": "markdown",
   "metadata": {},
   "source": [
    "This gets the second and 5th ranked of something.\n",
    "> Powered by [Data with Zach](https://www.youtube.com/@EcZachly_/videos)\n",
    "\n",
    "```sql\n",
    "WITH counts AS (\n",
    "\tSelect \n",
    "\tProductID, COUNT(*) as cnt\n",
    "\tFrom SalesLT.SalesOrderDetail\n",
    "\tGROUP BY ProductID\n",
    "), \n",
    "\n",
    "\tranked AS (\n",
    "Select *, RANK() OVER(ORDER BY cnt DESC, ProductID) as rank\n",
    "From counts\t\n",
    "\t)\n",
    "\n",
    "SELECT * FROM ranked\n",
    "WHERE rank = 2 or rank = 5\n",
    "```\n"
   ]
  }
 ],
 "metadata": {
  "language_info": {
   "name": "python"
  }
 },
 "nbformat": 4,
 "nbformat_minor": 2
}
