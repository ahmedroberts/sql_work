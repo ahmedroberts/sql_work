{
    "metadata": {
        "kernelspec": {
            "name": "SQL",
            "display_name": "SQL",
            "language": "sql"
        },
        "language_info": {
            "name": "sql",
            "version": ""
        }
    },
    "nbformat_minor": 2,
    "nbformat": 4,
    "cells": [
        {
            "cell_type": "code",
            "source": [
                "ALTER PROCEDURE zz.spJL_GetAll\r\n",
                "AS\r\n",
                "BEGIN\r\n",
                "    SET NOCOUNT ON\r\n",
                "    \r\n",
                "    SELECT ID, [Name], [Alias]\r\n",
                "    FROM zz.Superheroes\r\n",
                "END\r\n",
                "GO"
            ],
            "metadata": {
                "azdata_cell_guid": "f8199976-d6ec-4275-8bff-610cf7c84f40",
                "language": "sql",
                "tags": []
            },
            "outputs": [],
            "execution_count": null
        },
        {
            "cell_type": "code",
            "source": [
                "Select * From [zz].[Superheroes]"
            ],
            "metadata": {
                "azdata_cell_guid": "1f6a3f37-06a7-47d4-a756-860a185c341c",
                "language": "sql"
            },
            "outputs": [
                {
                    "output_type": "display_data",
                    "data": {
                        "text/html": "(3 rows affected)"
                    },
                    "metadata": {}
                },
                {
                    "output_type": "display_data",
                    "data": {
                        "text/html": "Total execution time: 00:00:00.058"
                    },
                    "metadata": {}
                },
                {
                    "output_type": "execute_result",
                    "execution_count": 1,
                    "data": {
                        "application/vnd.dataresource+json": {
                            "schema": {
                                "fields": [
                                    {
                                        "name": "ID"
                                    },
                                    {
                                        "name": "Name"
                                    },
                                    {
                                        "name": "Alias"
                                    },
                                    {
                                        "name": "Powers"
                                    },
                                    {
                                        "name": "Origin"
                                    },
                                    {
                                        "name": "Team"
                                    }
                                ]
                            },
                            "data": [
                                {
                                    "ID": "1",
                                    "Name": "Clark Kent",
                                    "Alias": "Superman",
                                    "Powers": "Super strength, Flight, Invulnerability, Heat vision, Freeze breath",
                                    "Origin": "Krypton",
                                    "Team": "Justice League"
                                },
                                {
                                    "ID": "2",
                                    "Name": "Bruce Wayne",
                                    "Alias": "Batman",
                                    "Powers": "Peak human condition, Martial arts, High-tech equipment",
                                    "Origin": "Gotham City",
                                    "Team": "Justice League"
                                },
                                {
                                    "ID": "3",
                                    "Name": "Diana Prince",
                                    "Alias": "Wonder Woman",
                                    "Powers": "Super strength, Speed, Durability, Flight",
                                    "Origin": "Themyscira",
                                    "Team": "Justice League"
                                }
                            ]
                        },
                        "text/html": "<table><tr><th>ID</th><th>Name</th><th>Alias</th><th>Powers</th><th>Origin</th><th>Team</th></tr><tr><td>1</td><td>Clark Kent</td><td>Superman</td><td>Super strength, Flight, Invulnerability, Heat vision, Freeze breath</td><td>Krypton</td><td>Justice League</td></tr><tr><td>2</td><td>Bruce Wayne</td><td>Batman</td><td>Peak human condition, Martial arts, High-tech equipment</td><td>Gotham City</td><td>Justice League</td></tr><tr><td>3</td><td>Diana Prince</td><td>Wonder Woman</td><td>Super strength, Speed, Durability, Flight</td><td>Themyscira</td><td>Justice League</td></tr></table>"
                    },
                    "metadata": {}
                }
            ],
            "execution_count": 1
        },
        {
            "cell_type": "markdown",
            "source": [
                "# Use Stored Procedures\r\n",
                "\r\n",
                "Ahmed using stored procedures to alter tables"
            ],
            "metadata": {
                "azdata_cell_guid": "a052daa0-8995-4d3c-b347-22b9977e26d7"
            },
            "attachments": {}
        },
        {
            "cell_type": "code",
            "source": [
                "EXEC zz.spJL_GetAll"
            ],
            "metadata": {
                "azdata_cell_guid": "5ac42761-bf2a-4a03-bc41-412867511eac",
                "language": "sql"
            },
            "outputs": [],
            "execution_count": null
        },
        {
            "cell_type": "markdown",
            "source": [
                "## Add parameters"
            ],
            "metadata": {
                "azdata_cell_guid": "e9ec3e7e-fa02-43b4-8034-ca04a8d7ecee"
            },
            "attachments": {}
        },
        {
            "cell_type": "code",
            "source": [
                "CREATE PROC zz.spJL_GetByAlias\r\n",
                "    @Alias VARCHAR(255)\r\n",
                "AS\r\n",
                "BEGIN\r\n",
                "    SELECT id, [Name], Alias\r\n",
                "    FROM zz.Superheroes\r\n",
                "    WHERE Alias = @Alias\r\n",
                "END"
            ],
            "metadata": {
                "azdata_cell_guid": "81fad346-4222-4570-9d78-02ddced18732",
                "language": "sql"
            },
            "outputs": [],
            "execution_count": null
        },
        {
            "cell_type": "markdown",
            "source": [
                "> Excute with parameter data"
            ],
            "metadata": {
                "azdata_cell_guid": "b39ab0f0-b57d-48d3-a68f-fb567bce24ef"
            },
            "attachments": {}
        },
        {
            "cell_type": "code",
            "source": [
                "-- Execute an parameterized Stored Procedure\r\n",
                "EXEC zz.spJL_GetByAlias @Alias = 'Batman'\r\n",
                "-- Execute an parameterized Stored Procedure\r\n",
                "-- Same because it hass all the variables in order, in this case just one\r\n",
                "EXEC zz.spJL_GetByAlias 'Batman'"
            ],
            "metadata": {
                "azdata_cell_guid": "a34a5ced-71b3-42db-b688-c57230f85aad",
                "language": "sql"
            },
            "outputs": [],
            "execution_count": null
        }
    ]
}