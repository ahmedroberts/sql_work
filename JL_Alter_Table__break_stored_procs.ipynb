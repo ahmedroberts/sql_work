{
    "metadata": {
        "kernelspec": {
            "name": "SQL",
            "display_name": "SQL",
            "language": "sql"
        },
        "language_info": {
            "name": "sql",
            "version": ""
        }
    },
    "nbformat_minor": 2,
    "nbformat": 4,
    "cells": [
        {
            "cell_type": "markdown",
            "source": [
                "Hacker Rank"
            ],
            "metadata": {
                "azdata_cell_guid": "246f3388-3590-46d8-a7f0-fd7561a32ba6"
            },
            "attachments": {}
        },
        {
            "cell_type": "markdown",
            "source": [
                "Let See..."
            ],
            "metadata": {
                "azdata_cell_guid": "1c8185e6-b193-4111-95fa-701e97c9276a"
            },
            "attachments": {}
        },
        {
            "cell_type": "code",
            "source": [
                "select * from [zz].Superheroes;"
            ],
            "metadata": {
                "azdata_cell_guid": "4c57a61a-0f69-46e2-b16f-a010dfe51760",
                "language": "sql"
            },
            "outputs": [
                {
                    "output_type": "display_data",
                    "data": {
                        "text/html": "(3 rows affected)"
                    },
                    "metadata": {}
                },
                {
                    "output_type": "display_data",
                    "data": {
                        "text/html": "Total execution time: 00:00:00.054"
                    },
                    "metadata": {}
                },
                {
                    "output_type": "execute_result",
                    "metadata": {},
                    "execution_count": 1,
                    "data": {
                        "application/vnd.dataresource+json": {
                            "schema": {
                                "fields": [
                                    {
                                        "name": "ID"
                                    },
                                    {
                                        "name": "Name"
                                    },
                                    {
                                        "name": "Alias"
                                    },
                                    {
                                        "name": "Powers"
                                    },
                                    {
                                        "name": "Origin"
                                    },
                                    {
                                        "name": "Team"
                                    }
                                ]
                            },
                            "data": [
                                {
                                    "ID": "1",
                                    "Name": "Clark Kent",
                                    "Alias": "Superman",
                                    "Powers": "Super strength, Flight, Invulnerability, Heat vision, Freeze breath",
                                    "Origin": "Krypton",
                                    "Team": "Justice League"
                                },
                                {
                                    "ID": "2",
                                    "Name": "Bruce Wayne",
                                    "Alias": "Batman",
                                    "Powers": "Peak human condition, Martial arts, High-tech equipment",
                                    "Origin": "Gotham City",
                                    "Team": "Justice League"
                                },
                                {
                                    "ID": "3",
                                    "Name": "Diana Prince",
                                    "Alias": "Wonder Woman",
                                    "Powers": "Super strength, Speed, Durability, Flight",
                                    "Origin": "Themyscira",
                                    "Team": "Justice League"
                                }
                            ]
                        },
                        "text/html": [
                            "<table>",
                            "<tr><th>ID</th><th>Name</th><th>Alias</th><th>Powers</th><th>Origin</th><th>Team</th></tr>",
                            "<tr><td>1</td><td>Clark Kent</td><td>Superman</td><td>Super strength, Flight, Invulnerability, Heat vision, Freeze breath</td><td>Krypton</td><td>Justice League</td></tr>",
                            "<tr><td>2</td><td>Bruce Wayne</td><td>Batman</td><td>Peak human condition, Martial arts, High-tech equipment</td><td>Gotham City</td><td>Justice League</td></tr>",
                            "<tr><td>3</td><td>Diana Prince</td><td>Wonder Woman</td><td>Super strength, Speed, Durability, Flight</td><td>Themyscira</td><td>Justice League</td></tr>",
                            "</table>"
                        ]
                    }
                }
            ],
            "execution_count": 1
        },
        {
            "cell_type": "code",
            "source": [
                "EXEC sp_rename 'zz.Superheroes.Name', 'person_name', 'COLUMN';"
            ],
            "metadata": {
                "language": "sql",
                "azdata_cell_guid": "1089bc20-db32-49c4-a2f2-a47802d47cd3"
            },
            "outputs": [
                {
                    "output_type": "display_data",
                    "data": {
                        "text/html": "Caution: Changing any part of an object name could break scripts and stored procedures."
                    },
                    "metadata": {}
                },
                {
                    "output_type": "display_data",
                    "data": {
                        "text/html": "Total execution time: 00:00:00.402"
                    },
                    "metadata": {}
                }
            ],
            "execution_count": 2
        },
        {
            "cell_type": "code",
            "source": [
                "select * from zz.Superheroes;"
            ],
            "metadata": {
                "azdata_cell_guid": "9a7de2e4-afad-4723-97ef-56f63e6784cf",
                "language": "sql"
            },
            "outputs": [
                {
                    "output_type": "display_data",
                    "data": {
                        "text/html": "(3 rows affected)"
                    },
                    "metadata": {}
                },
                {
                    "output_type": "display_data",
                    "data": {
                        "text/html": "Total execution time: 00:00:00.054"
                    },
                    "metadata": {}
                },
                {
                    "output_type": "execute_result",
                    "metadata": {},
                    "execution_count": 3,
                    "data": {
                        "application/vnd.dataresource+json": {
                            "schema": {
                                "fields": [
                                    {
                                        "name": "ID"
                                    },
                                    {
                                        "name": "person_name"
                                    },
                                    {
                                        "name": "Alias"
                                    },
                                    {
                                        "name": "Powers"
                                    },
                                    {
                                        "name": "Origin"
                                    },
                                    {
                                        "name": "Team"
                                    }
                                ]
                            },
                            "data": [
                                {
                                    "ID": "1",
                                    "person_name": "Clark Kent",
                                    "Alias": "Superman",
                                    "Powers": "Super strength, Flight, Invulnerability, Heat vision, Freeze breath",
                                    "Origin": "Krypton",
                                    "Team": "Justice League"
                                },
                                {
                                    "ID": "2",
                                    "person_name": "Bruce Wayne",
                                    "Alias": "Batman",
                                    "Powers": "Peak human condition, Martial arts, High-tech equipment",
                                    "Origin": "Gotham City",
                                    "Team": "Justice League"
                                },
                                {
                                    "ID": "3",
                                    "person_name": "Diana Prince",
                                    "Alias": "Wonder Woman",
                                    "Powers": "Super strength, Speed, Durability, Flight",
                                    "Origin": "Themyscira",
                                    "Team": "Justice League"
                                }
                            ]
                        },
                        "text/html": [
                            "<table>",
                            "<tr><th>ID</th><th>person_name</th><th>Alias</th><th>Powers</th><th>Origin</th><th>Team</th></tr>",
                            "<tr><td>1</td><td>Clark Kent</td><td>Superman</td><td>Super strength, Flight, Invulnerability, Heat vision, Freeze breath</td><td>Krypton</td><td>Justice League</td></tr>",
                            "<tr><td>2</td><td>Bruce Wayne</td><td>Batman</td><td>Peak human condition, Martial arts, High-tech equipment</td><td>Gotham City</td><td>Justice League</td></tr>",
                            "<tr><td>3</td><td>Diana Prince</td><td>Wonder Woman</td><td>Super strength, Speed, Durability, Flight</td><td>Themyscira</td><td>Justice League</td></tr>",
                            "</table>"
                        ]
                    }
                }
            ],
            "execution_count": 3
        }
    ]
}